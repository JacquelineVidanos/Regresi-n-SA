{
 "cells": [
  {
   "cell_type": "code",
   "execution_count": 114,
   "id": "29e508f5",
   "metadata": {
    "scrolled": true
   },
   "outputs": [],
   "source": [
    "#Regresion Lineal Simple\n",
    "#Se importan las librerías a utilizar\n",
    "import numpy as np\n",
    "import matplotlib.pyplot as plt\n",
    "import pandas as pd\n",
    "from sklearn.model_selection import train_test_split\n",
    "from sklearn import linear_model\n",
    "from sklearn.metrics import mean_squared_error, r2_score"
   ]
  },
  {
   "cell_type": "code",
   "execution_count": 115,
   "id": "acdda522",
   "metadata": {},
   "outputs": [
    {
     "name": "stdout",
     "output_type": "stream",
     "text": [
      "Dataset: \n",
      "     Años de experiencia  Salario\n",
      "0                   1.1    39343\n",
      "1                   1.3    46205\n",
      "2                   1.5    37731\n",
      "3                   2.0    43525\n",
      "4                   2.2    39891\n",
      "5                   2.9    56642\n",
      "6                   3.0    60150\n",
      "7                   3.2    54445\n",
      "8                   3.2    64445\n",
      "9                   3.7    57189\n",
      "10                  3.9    63218\n",
      "11                  4.0    55794\n",
      "12                  4.0    56957\n",
      "13                  4.1    57081\n",
      "14                  4.5    61111\n",
      "15                  4.9    67938\n",
      "16                  5.1    66029\n",
      "17                  5.3    83088\n",
      "18                  5.9    81363\n",
      "19                  6.0    93940\n",
      "20                  6.8    91738\n",
      "21                  7.1    98273\n",
      "22                  7.9   101302\n",
      "23                  8.2   113812\n",
      "24                  8.7   109431\n",
      "25                  9.0   105582\n",
      "26                  9.5   116969\n",
      "27                  9.6   112635\n",
      "28                 10.3   122391\n",
      "29                 10.5   121872\n"
     ]
    }
   ],
   "source": [
    "#Cargamos el conjunto de datos\n",
    "dataset = pd.read_csv('Salary_Data.csv')\n",
    "x2= dataset['Años de experiencia'].values\n",
    "y = dataset['Salario'].values\n",
    "x = dataset.iloc[:, :-1].values\n",
    "#y = dataset.iloc[:, 1].values\n",
    "print('Dataset: \\n',dataset)"
   ]
  },
  {
   "cell_type": "code",
   "execution_count": 116,
   "id": "e0f9561f",
   "metadata": {},
   "outputs": [],
   "source": [
    "#Dividimos los datos en el conjunto de entrenamiento y el conjunto de pruebas\n",
    "\n",
    "x_train, x_test, y_train, y_test = train_test_split(x, y, test_size=1/3, random_state=0)\n"
   ]
  },
  {
   "cell_type": "code",
   "execution_count": 117,
   "id": "2cb8ccbc",
   "metadata": {},
   "outputs": [
    {
     "data": {
      "text/plain": [
       "LinearRegression()"
      ]
     },
     "execution_count": 117,
     "metadata": {},
     "output_type": "execute_result"
    }
   ],
   "source": [
    "#Cargamos el conjunto de entrenamiento al modelo de Regresión Lineal\n",
    "regr = linear_model.LinearRegression()\n",
    "regr.fit(x_train, y_train)"
   ]
  },
  {
   "cell_type": "code",
   "execution_count": 118,
   "id": "e711c1fd",
   "metadata": {},
   "outputs": [],
   "source": [
    "#Predicción de los resultados del conjunto de pruebas (x_train)\n",
    "y_pred = regr.predict(x_train)\n"
   ]
  },
  {
   "cell_type": "code",
   "execution_count": 119,
   "id": "42be593f",
   "metadata": {},
   "outputs": [
    {
     "data": {
      "image/png": "[encoded data removed]",
      "text/plain": [
       "<Figure size 432x288 with 1 Axes>"
      ]
     },
     "metadata": {
      "needs_background": "light"
     },
     "output_type": "display_data"
    }
   ],
   "source": [
    "#Ahora comparamos y_pred con los valores reales y_test\n",
    "plt.scatter(x_test, y_test, color = 'red')\n",
    "plt.plot(x_train, y_pred, color = 'blue')\n",
    "plt.title('Salario vs Experiencia (Conjunto de prueba)')\n",
    "plt.xlabel('Años de Experiencia')\n",
    "plt.ylabel('Salario')\n",
    "plt.show()"
   ]
  },
  {
   "cell_type": "code",
   "execution_count": 120,
   "id": "4a8f521c",
   "metadata": {},
   "outputs": [
    {
     "name": "stdout",
     "output_type": "stream",
     "text": [
      "Coeficientes:  [9345.94244312]\n",
      "Término independiente:  26816.19224403119\n",
      "Error Cuadrado Medi: 36852948.7644\n",
      "Accuracy: 0.9382\n"
     ]
    }
   ],
   "source": [
    "# Veamos los coeficienetes obtenidos, En nuestro caso, serán la Tangente\n",
    "print('Coeficientes: ', regr.coef_)\n",
    "# Este es el valor donde corta el eje Y (en X=0)\n",
    "print('Término independiente: ', regr.intercept_)\n",
    "# Error Cuadrado Medio\n",
    "print(\"Error Cuadrado Medi: %.4f\" % mean_squared_error(y_train, y_pred))\n",
    "# Puntaje de Varianza. El mejor puntaje es un 1.0\n",
    "print('Accuracy: %.4f' % r2_score(y_train, y_pred))"
   ]
  },
  {
   "cell_type": "code",
   "execution_count": 121,
   "id": "276a755f",
   "metadata": {},
   "outputs": [
    {
     "name": "stdout",
     "output_type": "stream",
     "text": [
      "Sueldo estimado de acuerdo a sus años de experiencia: $31489.16\n"
     ]
    }
   ],
   "source": [
    "#Prediciendo el sueldo de acuerdo a los años de experiencia\n",
    "y_pred_sueldo = regr.predict([[0.5]])\n",
    "print('Sueldo estimado de acuerdo a sus años de experiencia: $%.2f'%y_pred_sueldo)"
   ]
  },
  {
   "cell_type": "code",
   "execution_count": null,
   "id": "bd6282c0",
   "metadata": {},
   "outputs": [],
   "source": []
  }
 ],
 "metadata": {
  "kernelspec": {
   "display_name": "Python 3",
   "language": "python",
   "name": "python3"
  },
  "language_info": {
   "codemirror_mode": {
    "name": "ipython",
    "version": 3
   },
   "file_extension": ".py",
   "mimetype": "text/x-python",
   "name": "python",
   "nbconvert_exporter": "python",
   "pygments_lexer": "ipython3",
   "version": "3.8.8"
  }
 },
 "nbformat": 4,
 "nbformat_minor": 5
}
